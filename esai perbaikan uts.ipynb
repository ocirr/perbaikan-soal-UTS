{
 "cells": [
  {
   "cell_type": "code",
   "execution_count": 1,
   "id": "ea236af2",
   "metadata": {},
   "outputs": [
    {
     "name": "stdout",
     "output_type": "stream",
     "text": [
      "masukan email anda:  ricohdyt23.@gmail.com\n",
      "False\n"
     ]
    }
   ],
   "source": [
    "gmail = input ('masukan email anda: ')\n",
    "pos_at = 0\n",
    "pos_titik = 0\n",
    "pos_at = gmail.find('@')\n",
    "pos_titik = gmail.find('.')\n",
    "print (pos_at < pos_titik)"
   ]
  },
  {
   "cell_type": "code",
   "execution_count": 5,
   "id": "04a179cf",
   "metadata": {},
   "outputs": [
    {
     "name": "stdout",
     "output_type": "stream",
     "text": [
      "masukan kalimatBelajar Pemerograman Python Sangat Mudah Sekali\n",
      "B3l4j4r P3m3rogr4m4n Python 54ng4t Mud4h 53k4li\n"
     ]
    }
   ],
   "source": [
    "kalimat = input ('masukan kalimat')\n",
    "i = 0\n",
    "kata = ''\n",
    "for i in range (len(kalimat)):\n",
    "    if kalimat [i] == 'a' or kalimat [i] == 'A':\n",
    "        kata = kata + '4'\n",
    "    elif kalimat [i] == 'e' or kalimat [i] == 'E':\n",
    "        kata = kata + '3'\n",
    "    elif kalimat [i] == 'L':\n",
    "        kata = kata + '7'\n",
    "    elif kalimat [i] == 'S':\n",
    "        kata = kata + '5'\n",
    "    else:\n",
    "        kata = kata + kalimat [i]\n",
    "print(kata)"
   ]
  },
  {
   "cell_type": "code",
   "execution_count": null,
   "id": "1a45255d",
   "metadata": {},
   "outputs": [],
   "source": []
  }
 ],
 "metadata": {
  "kernelspec": {
   "display_name": "Python 3 (ipykernel)",
   "language": "python",
   "name": "python3"
  },
  "language_info": {
   "codemirror_mode": {
    "name": "ipython",
    "version": 3
   },
   "file_extension": ".py",
   "mimetype": "text/x-python",
   "name": "python",
   "nbconvert_exporter": "python",
   "pygments_lexer": "ipython3",
   "version": "3.9.12"
  }
 },
 "nbformat": 4,
 "nbformat_minor": 5
}
